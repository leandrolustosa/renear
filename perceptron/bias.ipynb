{
 "metadata": {
  "language_info": {
   "codemirror_mode": {
    "name": "ipython",
    "version": 3
   },
   "file_extension": ".py",
   "mimetype": "text/x-python",
   "name": "python",
   "nbconvert_exporter": "python",
   "pygments_lexer": "ipython3",
   "version": "3.8.7"
  },
  "orig_nbformat": 2,
  "kernelspec": {
   "name": "python3",
   "display_name": "Python 3.8.7 64-bit ('.venv': venv)"
  },
  "interpreter": {
   "hash": "4ec18b84d47b6a295e97eed90cf329e82d9911a393de4365cbf15e0352aebcd2"
  }
 },
 "nbformat": 4,
 "nbformat_minor": 2,
 "cells": [
  {
   "cell_type": "code",
   "execution_count": 54,
   "source": [
    "import matplotlib.pyplot as plt\r\n",
    "import numpy as np\r\n",
    "from bias import Perceptron\r\n",
    "\r\n",
    "def geradataset(tamanho=20):\r\n",
    "    X = np.random.uniform(size=(tamanho,2))\r\n",
    "    y = np.array(X[:,0]>X[:,1], dtype=int)*2-1\r\n",
    "    return X, y\r\n",
    "\r\n",
    "def plotadataset(X, y):\r\n",
    "    plt.xlabel('X1')\r\n",
    "    plt.ylabel('X2')\r\n",
    "    for k in set(y):\r\n",
    "        plt.plot(X[:,0][y==k],X[:,1][y==k], \"o\", alpha=0.3)\r\n",
    "\r\n",
    "def perpendicular(vetor):\r\n",
    "    rotaciona = np.array([[0,1],[-1,0]])\r\n",
    "    perp = np.matmul(vetor,rotaciona)\r\n",
    "    return perp\r\n",
    "\r\n",
    "X, y = geradataset(50)\r\n",
    "plotadataset(X, y)\r\n",
    "vetor = [1, -1]\r\n",
    "hiperplano = perpendicular(vetor)\r\n",
    "plt.arrow(*[0,0], *hiperplano)\r\n",
    "plt.show()"
   ],
   "outputs": [
    {
     "output_type": "display_data",
     "data": {
      "text/plain": [
       "<Figure size 432x288 with 1 Axes>"
      ],
      "image/png": "[encoded data removed]"
     },
     "metadata": {
      "needs_background": "light"
     }
    }
   ],
   "metadata": {}
  },
  {
   "cell_type": "code",
   "execution_count": 55,
   "source": [
    "def f(x1):\r\n",
    "    return x1+0.25\r\n",
    "\r\n",
    "X, y = geradataset(tamanho=20)\r\n",
    "\r\n",
    "plotadataset(X, y)\r\n",
    "\r\n",
    "x1 = np.array([0, .25, .5, .75])\r\n",
    "x2 = f(x1)\r\n",
    "plt.plot(x1, x2, 'o-')\r\n",
    "\r\n",
    "print(x1 + 0.25 == x2)\r\n",
    "print(x1 - x2 + 0.25 == 0)\r\n",
    "print(0.25 + x1 - x2 == 0)\r\n",
    "x0 = np.array([1, 1, 1, 1])\r\n",
    "print(0.25*x0 + 1*x1 - 1*x2 == 0)\r\n",
    "\r\n",
    "coefs = np.array([.25, 1, -1])\r\n",
    "dados = np.stack((x0, x1, x2)).T\r\n",
    "\r\n",
    "print(dados)\r\n",
    "\r\n",
    "print(np.matmul(dados, coefs))\r\n",
    "\r\n",
    "ponto = [0.125, 0.75]\r\n",
    "plt.plot(*ponto, 'o')\r\n",
    "\r\n",
    "p1 = [1]\r\n",
    "p1.extend(ponto)\r\n",
    "print(p1)\r\n",
    "print(np.matmul(p1, coefs))\r\n",
    "\r\n",
    "plt.show()"
   ],
   "outputs": [
    {
     "output_type": "stream",
     "name": "stdout",
     "text": [
      "[ True  True  True  True]\n",
      "[ True  True  True  True]\n",
      "[ True  True  True  True]\n",
      "[ True  True  True  True]\n",
      "[[1.   0.   0.25]\n",
      " [1.   0.25 0.5 ]\n",
      " [1.   0.5  0.75]\n",
      " [1.   0.75 1.  ]]\n",
      "[0. 0. 0. 0.]\n",
      "[1, 0.125, 0.75]\n",
      "-0.375\n"
     ]
    },
    {
     "output_type": "display_data",
     "data": {
      "text/plain": [
       "<Figure size 432x288 with 1 Axes>"
      ],
      "image/png": "[encoded data removed]"
     },
     "metadata": {
      "needs_background": "light"
     }
    }
   ],
   "metadata": {}
  },
  {
   "cell_type": "code",
   "execution_count": 58,
   "source": [
    "\r\n",
    "from sklearn.base import BaseEstimator, ClassifierMixin\r\n",
    "\r\n",
    "class Perceptron(BaseEstimator, ClassifierMixin):\r\n",
    "    def __init__(self):\r\n",
    "        self.w = None\r\n",
    "        self.activation = lambda a: (a>=0)*2-1\r\n",
    "        self.alpha = 0.5\r\n",
    "        self.maxiter = 200\r\n",
    "    \r\n",
    "    @staticmethod\r\n",
    "    def includebias(X):\r\n",
    "        bias = np.ones((X.shape[0],1))\r\n",
    "        Xb = np.concatenate((bias, X), axis=1)\r\n",
    "        return Xb\r\n",
    "\r\n",
    "    def fit(self, X, y):\r\n",
    "        Xb = Perceptron.includebias(X)\r\n",
    "        self.w = np.random.uniform(-1, 1, size=Xb.shape[1])\r\n",
    "        for _ in range(self.maxiter):\r\n",
    "            ypred = self.predict(X)\r\n",
    "            erro = y - ypred\r\n",
    "            custo = np.sum(erro**2)\r\n",
    "            if custo==0:\r\n",
    "                break\r\n",
    "            self.w = self.w + self.alpha*np.matmul(erro, Xb)\r\n",
    "\r\n",
    "    def predict(self, X):\r\n",
    "        Xb = Perceptron.includebias(X)\r\n",
    "        a = np.matmul(Xb, self.w)\r\n",
    "        ypred = self.activation(a)\r\n",
    "        return ypred\r\n",
    "\r\n",
    "perceptron = Perceptron()\r\n",
    "perceptron.fit(X, y)\r\n",
    "ypred = perceptron.predict(X)\r\n",
    "print(perceptron.w)\r\n",
    "sum(y == ypred)/len(y)"
   ],
   "outputs": [
    {
     "output_type": "stream",
     "name": "stdout",
     "text": [
      "epoch=1 - cost=28\n",
      "epoch=2 - cost=52\n",
      "epoch=3 - cost=28\n",
      "epoch=4 - cost=28\n",
      "epoch=5 - cost=52\n",
      "epoch=6 - cost=28\n",
      "epoch=7 - cost=24\n",
      "epoch=8 - cost=48\n",
      "epoch=9 - cost=28\n",
      "epoch=10 - cost=12\n",
      "epoch=11 - cost=24\n",
      "epoch=12 - cost=24\n",
      "epoch=13 - cost=20\n",
      "epoch=14 - cost=24\n",
      "epoch=15 - cost=24\n",
      "epoch=16 - cost=24\n",
      "epoch=17 - cost=20\n",
      "epoch=18 - cost=20\n",
      "epoch=19 - cost=12\n",
      "epoch=20 - cost=12\n",
      "epoch=21 - cost=20\n",
      "epoch=22 - cost=20\n",
      "epoch=23 - cost=12\n",
      "epoch=24 - cost=8\n",
      "epoch=25 - cost=0\n",
      "[-0.33443771  3.22294323 -3.09222359]\n"
     ]
    },
    {
     "output_type": "execute_result",
     "data": {
      "text/plain": [
       "1.0"
      ]
     },
     "metadata": {},
     "execution_count": 58
    }
   ],
   "metadata": {}
  }
 ]
}